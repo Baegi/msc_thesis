{
 "cells": [
  {
   "cell_type": "markdown",
   "metadata": {},
   "source": [
    "Idea:\n",
    "\n",
    "Assume only few spoofing attacks\n",
    "\n",
    "Synchronize clocks assuming all broadcast locations are correct\n",
    "\n",
    "Estimate positions for messages based on sensor timestamps\n",
    "\n",
    "Remove messages with high deviations between broadcast locations and estimated locations\n",
    "\n",
    "Re-synchronize clocks and re-check broadcast locations"
   ]
  },
  {
   "cell_type": "code",
   "execution_count": 1,
   "metadata": {},
   "outputs": [
    {
     "name": "stderr",
     "output_type": "stream",
     "text": [
      "  0%|          | 0/200 [00:23<?, ?it/s]"
     ]
    },
    {
     "name": "stdout",
     "output_type": "stream",
     "text": [
      "Sensors: 1364\n",
      "Received Messages: 77527\n"
     ]
    },
    {
     "name": "stderr",
     "output_type": "stream",
     "text": [
      "\n"
     ]
    }
   ],
   "source": [
    "import pandas as pd\n",
    "import numpy as np\n",
    "import os\n",
    "import re\n",
    "import position_estimator\n",
    "from collections import defaultdict\n",
    "from tqdm import tqdm\n",
    "\n",
    "DATA_LOCATION = \"D:/thesis_data/1hour_complete_22_01_10_05/\"\n",
    "\n",
    "sensors = set()\n",
    "received = defaultdict(lambda: { \"sensors\": list() })\n",
    "\n",
    "for file in tqdm(os.listdir(DATA_LOCATION)):\n",
    "    assert re.match(r\"^part-\\d{5}$\", file)\n",
    "    with open(os.path.join(DATA_LOCATION, file), \"r\") as f:\n",
    "        line = f.readline()\n",
    "        if not line:\n",
    "            continue\n",
    "        assert line == \"sensorType,sensorLatitude,sensorLongitude,sensorAltitude,timeAtServer,timeAtSensor,timestamp,rawMessage,sensorSerialNumber,RSSIPacket,RSSIPreamble,SNR,confidence\\n\"\n",
    "        while (line := f.readline().strip()):\n",
    "            sensorType,sensorLatitude,sensorLongitude,sensorAltitude,timeAtServer,timeAtSensor,timestamp,rawMessage,sensorSerialNumber,RSSIPacket,RSSIPreamble,SNR,confidence = line.split(',')\n",
    "            \n",
    "            if not position_estimator.is_relevant(rawMessage):\n",
    "                continue\n",
    "\n",
    "            if 'null' in [sensorLatitude, sensorLongitude, sensorAltitude, timeAtSensor]:\n",
    "                continue\n",
    "            \n",
    "            sensorLatitude = float(sensorLatitude)\n",
    "            sensorLongitude = float(sensorLongitude)\n",
    "            sensorAltitude = float(sensorAltitude)\n",
    "            timeAtSensor = float(timeAtSensor)\n",
    "\n",
    "            if not (sensorLatitude and sensorLongitude):\n",
    "                continue\n",
    "\n",
    "            sensor = (sensorLatitude, sensorLongitude, sensorAltitude, sensorType)\n",
    "            sensors.add(sensor)\n",
    "            received[rawMessage][\"sensors\"].append((timeAtSensor, sensor))\n",
    "\n",
    "            if not \"pos\" in received[rawMessage]:\n",
    "                received[rawMessage][\"pos\"] = position_estimator.get_pos(rawMessage, timeAtSensor)\n",
    "    \n",
    "    break # memory constraint\n",
    "\n",
    "print(\"Sensors:\", len(sensors))\n",
    "print(\"Received Messages:\", len(received))"
   ]
  },
  {
   "cell_type": "code",
   "execution_count": null,
   "metadata": {},
   "outputs": [],
   "source": [
    "time_delta = defaultdict(list)\n",
    "\n",
    "for msg in received:\n",
    "    if not received[msg][\"pos\"]:\n",
    "        continue\n",
    "\n",
    "    for timestamp, sensor in received[msg][\"sensors\"]:\n",
    "        \n",
    "    "
   ]
  }
 ],
 "metadata": {
  "interpreter": {
   "hash": "f83f7d2bec24b1c01f80f56dfc3ff5e19c44b6c9892506c9ab7d9e0c90a9b548"
  },
  "kernelspec": {
   "display_name": "Python 3.9.10 64-bit (windows store)",
   "language": "python",
   "name": "python3"
  },
  "language_info": {
   "codemirror_mode": {
    "name": "ipython",
    "version": 3
   },
   "file_extension": ".py",
   "mimetype": "text/x-python",
   "name": "python",
   "nbconvert_exporter": "python",
   "pygments_lexer": "ipython3",
   "version": "3.9.10"
  },
  "orig_nbformat": 4
 },
 "nbformat": 4,
 "nbformat_minor": 2
}
