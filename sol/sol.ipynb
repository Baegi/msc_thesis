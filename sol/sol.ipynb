{
 "cells": [
  {
   "cell_type": "markdown",
   "metadata": {},
   "source": [
    "Idea:\n",
    "\n",
    "Assume only few spoofing attacks\n",
    "\n",
    "Synchronize clocks assuming all broadcast locations are correct\n",
    "\n",
    "Estimate positions for messages based on sensor timestamps\n",
    "\n",
    "Remove messages with high deviations between broadcast locations and estimated locations\n",
    "\n",
    "Re-synchronize clocks and re-check broadcast locations"
   ]
  },
  {
   "cell_type": "code",
   "execution_count": 18,
   "metadata": {},
   "outputs": [
    {
     "name": "stderr",
     "output_type": "stream",
     "text": [
      "  0%|          | 1/200 [00:12<40:39, 12.26s/it]"
     ]
    },
    {
     "name": "stdout",
     "output_type": "stream",
     "text": [
      "Sensors: 725\n",
      "Received Messages: 15954\n"
     ]
    },
    {
     "name": "stderr",
     "output_type": "stream",
     "text": [
      "  1%|          | 2/200 [00:27<45:30, 13.79s/it]"
     ]
    },
    {
     "name": "stdout",
     "output_type": "stream",
     "text": [
      "Sensors: 743\n",
      "Received Messages: 34803\n"
     ]
    },
    {
     "name": "stderr",
     "output_type": "stream",
     "text": [
      "  2%|▏         | 3/200 [00:39<42:27, 12.93s/it]"
     ]
    },
    {
     "name": "stdout",
     "output_type": "stream",
     "text": [
      "Sensors: 756\n",
      "Received Messages: 49603\n"
     ]
    },
    {
     "name": "stderr",
     "output_type": "stream",
     "text": [
      "  2%|▏         | 4/200 [00:53<44:13, 13.54s/it]"
     ]
    },
    {
     "name": "stdout",
     "output_type": "stream",
     "text": [
      "Sensors: 763\n",
      "Received Messages: 68061\n"
     ]
    },
    {
     "name": "stderr",
     "output_type": "stream",
     "text": [
      "  2%|▎         | 5/200 [01:06<43:49, 13.48s/it]"
     ]
    },
    {
     "name": "stdout",
     "output_type": "stream",
     "text": [
      "Sensors: 789\n",
      "Received Messages: 85055\n"
     ]
    },
    {
     "name": "stderr",
     "output_type": "stream",
     "text": [
      "  4%|▍         | 9/200 [01:24<23:29,  7.38s/it]"
     ]
    },
    {
     "name": "stdout",
     "output_type": "stream",
     "text": [
      "Sensors: 810\n",
      "Received Messages: 107846\n"
     ]
    },
    {
     "name": "stderr",
     "output_type": "stream",
     "text": [
      "  6%|▌         | 11/200 [01:38<22:43,  7.22s/it]"
     ]
    },
    {
     "name": "stdout",
     "output_type": "stream",
     "text": [
      "Sensors: 815\n",
      "Received Messages: 125690\n"
     ]
    },
    {
     "name": "stderr",
     "output_type": "stream",
     "text": [
      "  6%|▌         | 12/200 [01:53<27:27,  8.76s/it]"
     ]
    },
    {
     "name": "stdout",
     "output_type": "stream",
     "text": [
      "Sensors: 817\n",
      "Received Messages: 145836\n"
     ]
    },
    {
     "name": "stderr",
     "output_type": "stream",
     "text": [
      "  6%|▋         | 13/200 [02:11<33:23, 10.71s/it]"
     ]
    },
    {
     "name": "stdout",
     "output_type": "stream",
     "text": [
      "Sensors: 819\n",
      "Received Messages: 168917\n"
     ]
    },
    {
     "name": "stderr",
     "output_type": "stream",
     "text": [
      " 11%|█         | 22/200 [02:26<12:02,  4.06s/it]"
     ]
    },
    {
     "name": "stdout",
     "output_type": "stream",
     "text": [
      "Sensors: 830\n",
      "Received Messages: 187988\n"
     ]
    },
    {
     "name": "stderr",
     "output_type": "stream",
     "text": [
      " 12%|█▏        | 23/200 [02:38<14:34,  4.94s/it]"
     ]
    },
    {
     "name": "stdout",
     "output_type": "stream",
     "text": [
      "Sensors: 832\n",
      "Received Messages: 204189\n"
     ]
    },
    {
     "name": "stderr",
     "output_type": "stream",
     "text": [
      " 12%|█▏        | 24/200 [02:53<18:09,  6.19s/it]"
     ]
    },
    {
     "name": "stdout",
     "output_type": "stream",
     "text": [
      "Sensors: 835\n",
      "Received Messages: 223242\n"
     ]
    },
    {
     "name": "stderr",
     "output_type": "stream",
     "text": [
      " 12%|█▎        | 25/200 [03:08<22:17,  7.64s/it]"
     ]
    },
    {
     "name": "stdout",
     "output_type": "stream",
     "text": [
      "Sensors: 838\n",
      "Received Messages: 242723\n"
     ]
    },
    {
     "name": "stderr",
     "output_type": "stream",
     "text": [
      " 13%|█▎        | 26/200 [03:24<26:14,  9.05s/it]"
     ]
    },
    {
     "name": "stdout",
     "output_type": "stream",
     "text": [
      "Sensors: 842\n",
      "Received Messages: 262741\n"
     ]
    },
    {
     "name": "stderr",
     "output_type": "stream",
     "text": [
      " 22%|██▏       | 43/200 [03:40<06:22,  2.44s/it]"
     ]
    },
    {
     "name": "stdout",
     "output_type": "stream",
     "text": [
      "Sensors: 858\n",
      "Received Messages: 284251\n"
     ]
    },
    {
     "name": "stderr",
     "output_type": "stream",
     "text": [
      " 24%|██▍       | 48/200 [03:57<06:47,  2.68s/it]"
     ]
    },
    {
     "name": "stdout",
     "output_type": "stream",
     "text": [
      "Sensors: 862\n",
      "Received Messages: 306746\n"
     ]
    },
    {
     "name": "stderr",
     "output_type": "stream",
     "text": [
      " 24%|██▍       | 49/200 [04:12<08:51,  3.52s/it]"
     ]
    },
    {
     "name": "stdout",
     "output_type": "stream",
     "text": [
      "Sensors: 862\n",
      "Received Messages: 326691\n"
     ]
    },
    {
     "name": "stderr",
     "output_type": "stream",
     "text": [
      " 25%|██▌       | 50/200 [04:27<11:29,  4.60s/it]"
     ]
    },
    {
     "name": "stdout",
     "output_type": "stream",
     "text": [
      "Sensors: 862\n",
      "Received Messages: 347508\n"
     ]
    },
    {
     "name": "stderr",
     "output_type": "stream",
     "text": [
      " 26%|██▌       | 51/200 [04:42<14:13,  5.73s/it]"
     ]
    },
    {
     "name": "stdout",
     "output_type": "stream",
     "text": [
      "Sensors: 863\n",
      "Received Messages: 367299\n"
     ]
    },
    {
     "name": "stderr",
     "output_type": "stream",
     "text": [
      " 26%|██▌       | 52/200 [04:59<18:04,  7.33s/it]"
     ]
    },
    {
     "name": "stdout",
     "output_type": "stream",
     "text": [
      "Sensors: 865\n",
      "Received Messages: 389380\n"
     ]
    },
    {
     "name": "stderr",
     "output_type": "stream",
     "text": [
      " 26%|██▋       | 53/200 [05:18<22:17,  9.10s/it]"
     ]
    },
    {
     "name": "stdout",
     "output_type": "stream",
     "text": [
      "Sensors: 866\n",
      "Received Messages: 413659\n"
     ]
    },
    {
     "name": "stderr",
     "output_type": "stream",
     "text": [
      " 27%|██▋       | 54/200 [05:34<25:39, 10.55s/it]"
     ]
    },
    {
     "name": "stdout",
     "output_type": "stream",
     "text": [
      "Sensors: 867\n",
      "Received Messages: 435937\n"
     ]
    },
    {
     "name": "stderr",
     "output_type": "stream",
     "text": [
      " 28%|██▊       | 55/200 [05:50<28:10, 11.66s/it]"
     ]
    },
    {
     "name": "stdout",
     "output_type": "stream",
     "text": [
      "Sensors: 867\n",
      "Received Messages: 457093\n"
     ]
    },
    {
     "name": "stderr",
     "output_type": "stream",
     "text": [
      " 28%|██▊       | 56/200 [06:03<28:44, 11.98s/it]"
     ]
    },
    {
     "name": "stdout",
     "output_type": "stream",
     "text": [
      "Sensors: 867\n",
      "Received Messages: 474774\n"
     ]
    },
    {
     "name": "stderr",
     "output_type": "stream",
     "text": [
      " 28%|██▊       | 57/200 [06:17<29:39, 12.44s/it]"
     ]
    },
    {
     "name": "stdout",
     "output_type": "stream",
     "text": [
      "Sensors: 868\n",
      "Received Messages: 491579\n"
     ]
    },
    {
     "name": "stderr",
     "output_type": "stream",
     "text": [
      " 28%|██▊       | 57/200 [06:34<16:30,  6.93s/it]"
     ]
    },
    {
     "name": "stdout",
     "output_type": "stream",
     "text": [
      "Sensors: 869\n",
      "Received Messages: 511717\n"
     ]
    },
    {
     "name": "stderr",
     "output_type": "stream",
     "text": [
      "\n"
     ]
    }
   ],
   "source": [
    "import pandas as pd\n",
    "import numpy as np\n",
    "import os\n",
    "import re\n",
    "import position_estimator\n",
    "from position_estimator import GeoPoint\n",
    "from collections import defaultdict\n",
    "from tqdm import tqdm\n",
    "import itertools\n",
    "\n",
    "DATA_LOCATION = \"D:/thesis_data/1hour_complete_22_01_10_05/\"\n",
    "#DATA_LOCATION = \"../raw_data/1hour/\"\n",
    "\n",
    "sensors = list()\n",
    "sensors_rev = dict()\n",
    "received = defaultdict(lambda: { \"sensors\": list() })\n",
    "\n",
    "for file in tqdm(os.listdir(DATA_LOCATION)):\n",
    "    assert re.match(r\"^part-\\d{5}$\", file)\n",
    "    with open(os.path.join(DATA_LOCATION, file), \"r\") as f:\n",
    "        line = f.readline()\n",
    "        if not line:\n",
    "            continue\n",
    "        assert line == \"sensorType,sensorLatitude,sensorLongitude,sensorAltitude,timeAtServer,timeAtSensor,timestamp,rawMessage,sensorSerialNumber,RSSIPacket,RSSIPreamble,SNR,confidence\\n\"\n",
    "        while (line := f.readline().strip()):\n",
    "            sensorType,sensorLatitude,sensorLongitude,sensorAltitude,timeAtServer,timeAtSensor,timestamp,rawMessage,sensorSerialNumber,RSSIPacket,RSSIPreamble,SNR,confidence = line.split(',')\n",
    "            \n",
    "            if not position_estimator.is_relevant(rawMessage):\n",
    "                continue\n",
    "\n",
    "            if 'null' in [sensorLatitude, sensorLongitude, sensorAltitude, timeAtSensor]:\n",
    "                continue\n",
    "            \n",
    "            sensorLatitude = float(sensorLatitude)\n",
    "            sensorLongitude = float(sensorLongitude)\n",
    "            sensorAltitude = float(sensorAltitude)\n",
    "            timeAtSensor = float(timeAtSensor)\n",
    "\n",
    "            # limit to europe for now\n",
    "            if not 35 < sensorLatitude < 75:\n",
    "                continue\n",
    "            elif not -10 < sensorLongitude < 40:\n",
    "                continue\n",
    "\n",
    "            if not (sensorLatitude and sensorLongitude):\n",
    "                continue\n",
    "\n",
    "            if not \"pos\" in received[rawMessage]:\n",
    "                try:\n",
    "                    received[rawMessage][\"pos\"] = position_estimator.get_announced_pos(rawMessage, timeAtSensor)\n",
    "                    assert -90 <= received[rawMessage][\"pos\"].lat <= 90\n",
    "                    assert -180 <= received[rawMessage][\"pos\"].lon <= 180\n",
    "                except:\n",
    "                    #print(\"Couldn't get position :(\")\n",
    "                    del received[rawMessage]\n",
    "                    continue\n",
    "\n",
    "            sensor = (GeoPoint(sensorLatitude, sensorLongitude, sensorAltitude), sensorType)\n",
    "            if sensor not in sensors_rev:\n",
    "                sensors_rev[sensor] = len(sensors)\n",
    "                sensors.append(sensor)\n",
    "\n",
    "            if (timeAtSensor, sensors_rev[sensor]) not in received[rawMessage][\"sensors\"]:\n",
    "                received[rawMessage][\"sensors\"].append((timeAtSensor, sensors_rev[sensor]))\n",
    "\n",
    "    print(\"Sensors:\", len(sensors))\n",
    "    print(\"Received Messages:\", len(received))\n",
    "    if len(received) >= 200000:\n",
    "        break # memory constraint\n",
    "\n"
   ]
  },
  {
   "cell_type": "code",
   "execution_count": 19,
   "metadata": {},
   "outputs": [
    {
     "name": "stdout",
     "output_type": "stream",
     "text": [
      "Messages before: 511717\n",
      "Messages after:  478333\n"
     ]
    }
   ],
   "source": [
    "# remove messages that have been sent more than once\n",
    "print(\"Messages before:\", len(received))\n",
    "for msg in list(received.keys()):\n",
    "    if len(set([s for t, s in received[msg][\"sensors\"]])) < len(received[msg][\"sensors\"]):\n",
    "        del received[msg]\n",
    "print(\"Messages after: \", len(received))"
   ]
  },
  {
   "cell_type": "code",
   "execution_count": 20,
   "metadata": {},
   "outputs": [
    {
     "name": "stderr",
     "output_type": "stream",
     "text": [
      "  0%|          | 0/478333 [00:00<?, ?it/s]C:\\Users\\Lukas Baege\\AppData\\Local\\Packages\\PythonSoftwareFoundation.Python.3.9_qbz5n2kfra8p0\\LocalCache\\local-packages\\Python39\\site-packages\\geopy\\point.py:472: UserWarning: Latitude normalization has been prohibited in the newer versions of geopy, because the normalized value happened to be on a different pole, which is probably not what was meant. If you pass coordinates as positional args, please make sure that the order is (latitude, longitude) or (y, x) in Cartesian terms.\n",
      "  return cls(*args)\n",
      "Traceback (most recent call last):\n",
      "  File \"C:\\Users\\LUKASB~1\\AppData\\Local\\Temp/ipykernel_39212/267622478.py\", line 18, in <module>\n",
      "    sensor_dists_to_msg_origin = {x[1]: received[msg][\"pos\"].dist(sensors[x[1]][0]) for x in received[msg][\"sensors\"]}\n",
      "  File \"C:\\Users\\LUKASB~1\\AppData\\Local\\Temp/ipykernel_39212/267622478.py\", line 18, in <dictcomp>\n",
      "    sensor_dists_to_msg_origin = {x[1]: received[msg][\"pos\"].dist(sensors[x[1]][0]) for x in received[msg][\"sensors\"]}\n",
      "  File \"c:\\Users\\Lukas Baege\\Desktop\\msc thesis\\sol\\position_estimator.py\", line 14, in dist\n",
      "    self.alt = altitude\n",
      "  File \"C:\\Users\\Lukas Baege\\AppData\\Local\\Packages\\PythonSoftwareFoundation.Python.3.9_qbz5n2kfra8p0\\LocalCache\\local-packages\\Python39\\site-packages\\geopy\\distance.py\", line 522, in __init__\n",
      "    super().__init__(*args, **kwargs)\n",
      "  File \"C:\\Users\\Lukas Baege\\AppData\\Local\\Packages\\PythonSoftwareFoundation.Python.3.9_qbz5n2kfra8p0\\LocalCache\\local-packages\\Python39\\site-packages\\geopy\\distance.py\", line 276, in __init__\n",
      "    kilometers += self.measure(a, b)\n",
      "  File \"C:\\Users\\Lukas Baege\\AppData\\Local\\Packages\\PythonSoftwareFoundation.Python.3.9_qbz5n2kfra8p0\\LocalCache\\local-packages\\Python39\\site-packages\\geopy\\distance.py\", line 538, in measure\n",
      "    a, b = Point(a), Point(b)\n",
      "  File \"C:\\Users\\Lukas Baege\\AppData\\Local\\Packages\\PythonSoftwareFoundation.Python.3.9_qbz5n2kfra8p0\\LocalCache\\local-packages\\Python39\\site-packages\\geopy\\point.py\", line 175, in __new__\n",
      "    return cls.from_sequence(seq)\n",
      "  File \"C:\\Users\\Lukas Baege\\AppData\\Local\\Packages\\PythonSoftwareFoundation.Python.3.9_qbz5n2kfra8p0\\LocalCache\\local-packages\\Python39\\site-packages\\geopy\\point.py\", line 472, in from_sequence\n",
      "    return cls(*args)\n",
      "  File \"C:\\Users\\Lukas Baege\\AppData\\Local\\Packages\\PythonSoftwareFoundation.Python.3.9_qbz5n2kfra8p0\\LocalCache\\local-packages\\Python39\\site-packages\\geopy\\point.py\", line 188, in __new__\n",
      "    _normalize_coordinates(latitude, longitude, altitude)\n",
      "  File \"C:\\Users\\Lukas Baege\\AppData\\Local\\Packages\\PythonSoftwareFoundation.Python.3.9_qbz5n2kfra8p0\\LocalCache\\local-packages\\Python39\\site-packages\\geopy\\point.py\", line 74, in _normalize_coordinates\n",
      "    raise ValueError('Latitude must be in the [-90; 90] range.')\n",
      "ValueError: Latitude must be in the [-90; 90] range.\n",
      "  0%|          | 1/478333 [00:00<13:41:08,  9.71it/s]"
     ]
    },
    {
     "name": "stdout",
     "output_type": "stream",
     "text": [
      "149.80161 114.18915 8534.4\n",
      "{4: (51.8297, 4.7637, 10.0), 9: (52.07604, 5.22358, 11.0), 20: (51.126764, 6.842491, 8.0), 38: (53.24312, 5.99151, 9.5), 47: (52.38283, 5.259066, 8.0), 58: (51.4137, 5.4335, 21.0), 57: (51.4414, 5.5226, 30.0), 64: (51.391, 5.438, 27.0), 69: (51.728, 3.7549, 10.0), 85: (52.592428, 7.286886, 43.81), 177: (52.1524, 4.6689, 11.0), 183: (53.26, 9.7187, 61.0), 194: (52.52035, 7.29957, 26.4), 196: (51.04332, 5.16706, 43.0), 95: (52.5772, 8.1373, 51.0), 154: (52.2602, 6.0739, 8.0), 238: (52.043823, 4.646932, -4.0), 336: (52.284961, 8.025576, 89.0), 346: (51.558435, 6.7351, 40.0), 406: (52.6549, 4.813, 4.8768), 415: (51.97143, 6.71426, 50.0), 463: (52.34606, 4.67771, 20.0), 468: (52.381, 4.844, 30.0), 485: (52.05064, 5.64182, 20.0)}\n"
     ]
    },
    {
     "name": "stderr",
     "output_type": "stream",
     "text": [
      "\n"
     ]
    },
    {
     "ename": "KeyError",
     "evalue": "4",
     "output_type": "error",
     "traceback": [
      "\u001b[1;31m---------------------------------------------------------------------------\u001b[0m",
      "\u001b[1;31mKeyError\u001b[0m                                  Traceback (most recent call last)",
      "\u001b[1;32mC:\\Users\\LUKASB~1\\AppData\\Local\\Temp/ipykernel_39212/267622478.py\u001b[0m in \u001b[0;36m<module>\u001b[1;34m\u001b[0m\n\u001b[0;32m     25\u001b[0m     \u001b[1;32mfor\u001b[0m \u001b[1;33m(\u001b[0m\u001b[0mt1\u001b[0m\u001b[1;33m,\u001b[0m \u001b[0ms1\u001b[0m\u001b[1;33m)\u001b[0m\u001b[1;33m,\u001b[0m \u001b[1;33m(\u001b[0m\u001b[0mt2\u001b[0m\u001b[1;33m,\u001b[0m \u001b[0ms2\u001b[0m\u001b[1;33m)\u001b[0m \u001b[1;32min\u001b[0m \u001b[0mitertools\u001b[0m\u001b[1;33m.\u001b[0m\u001b[0mcombinations\u001b[0m\u001b[1;33m(\u001b[0m\u001b[0mreceived\u001b[0m\u001b[1;33m[\u001b[0m\u001b[0mmsg\u001b[0m\u001b[1;33m]\u001b[0m\u001b[1;33m[\u001b[0m\u001b[1;34m\"sensors\"\u001b[0m\u001b[1;33m]\u001b[0m\u001b[1;33m,\u001b[0m \u001b[1;36m2\u001b[0m\u001b[1;33m)\u001b[0m\u001b[1;33m:\u001b[0m\u001b[1;33m\u001b[0m\u001b[1;33m\u001b[0m\u001b[0m\n\u001b[0;32m     26\u001b[0m         \u001b[1;32massert\u001b[0m \u001b[0ms1\u001b[0m \u001b[1;33m!=\u001b[0m \u001b[0ms2\u001b[0m\u001b[1;33m\u001b[0m\u001b[1;33m\u001b[0m\u001b[0m\n\u001b[1;32m---> 27\u001b[1;33m         \u001b[0mtd\u001b[0m \u001b[1;33m=\u001b[0m \u001b[1;33m(\u001b[0m\u001b[0mt1\u001b[0m \u001b[1;33m-\u001b[0m \u001b[0mtime_to_sensor\u001b[0m\u001b[1;33m[\u001b[0m\u001b[0ms1\u001b[0m\u001b[1;33m]\u001b[0m\u001b[1;33m)\u001b[0m \u001b[1;33m-\u001b[0m \u001b[1;33m(\u001b[0m\u001b[0mt2\u001b[0m \u001b[1;33m-\u001b[0m \u001b[0mtime_to_sensor\u001b[0m\u001b[1;33m[\u001b[0m\u001b[0ms2\u001b[0m\u001b[1;33m]\u001b[0m\u001b[1;33m)\u001b[0m\u001b[1;33m\u001b[0m\u001b[1;33m\u001b[0m\u001b[0m\n\u001b[0m\u001b[0;32m     28\u001b[0m         \u001b[0mtime_delta\u001b[0m\u001b[1;33m[\u001b[0m\u001b[0ms1\u001b[0m\u001b[1;33m]\u001b[0m\u001b[1;33m[\u001b[0m\u001b[0ms2\u001b[0m\u001b[1;33m]\u001b[0m\u001b[1;33m.\u001b[0m\u001b[0mappend\u001b[0m\u001b[1;33m(\u001b[0m\u001b[0mtd\u001b[0m\u001b[1;33m)\u001b[0m\u001b[1;33m\u001b[0m\u001b[1;33m\u001b[0m\u001b[0m\n\u001b[0;32m     29\u001b[0m         \u001b[0mtime_delta\u001b[0m\u001b[1;33m[\u001b[0m\u001b[0ms2\u001b[0m\u001b[1;33m]\u001b[0m\u001b[1;33m[\u001b[0m\u001b[0ms1\u001b[0m\u001b[1;33m]\u001b[0m\u001b[1;33m.\u001b[0m\u001b[0mappend\u001b[0m\u001b[1;33m(\u001b[0m\u001b[1;33m-\u001b[0m\u001b[0mtd\u001b[0m\u001b[1;33m)\u001b[0m\u001b[1;33m\u001b[0m\u001b[1;33m\u001b[0m\u001b[0m\n",
      "\u001b[1;31mKeyError\u001b[0m: 4"
     ]
    }
   ],
   "source": [
    "from position_estimator import GeoPoint\n",
    "import traceback\n",
    "C = 299792458 # light speed, meters per second\n",
    "\n",
    "time_delta = [ [ [] for j in range(len(sensors)) ] for i in range(len(sensors)) ]\n",
    "\n",
    "for msg in tqdm(received):\n",
    "    if not received[msg][\"pos\"]:\n",
    "        continue\n",
    "\n",
    "    for t, s in list(received[msg][\"sensors\"]):\n",
    "        dists = sorted([sensors[s][0].dist(sensors[e[1]][0]) for e in received[msg][\"sensors\"] if e[1] != s])\n",
    "        if dists[int(len(dists)/10)] > 1e6: # ge 1000 km\n",
    "            print(\"removing:\", t, s, dists)\n",
    "            received[msg][\"sensors\"].remove((t, s))\n",
    "\n",
    "    try:\n",
    "        sensor_dists_to_msg_origin = {x[1]: received[msg][\"pos\"].dist(sensors[x[1]][0]) for x in received[msg][\"sensors\"]}\n",
    "        time_to_sensor = { s: x / C for s, x in sensor_dists_to_msg_origin.items() }\n",
    "    except:\n",
    "        traceback.print_exc()\n",
    "        print(received[msg][\"pos\"].lat, received[msg][\"pos\"].lon, received[msg][\"pos\"].alt)\n",
    "        print({x[1]: (sensors[x[1]][0].lat, sensors[x[1]][0].lon, sensors[x[1]][0].alt) for x in received[msg][\"sensors\"]})\n",
    "\n",
    "    for (t1, s1), (t2, s2) in itertools.combinations(received[msg][\"sensors\"], 2):\n",
    "        assert s1 != s2\n",
    "        td = (t1 - time_to_sensor[s1]) - (t2 - time_to_sensor[s2])\n",
    "        time_delta[s1][s2].append(td)\n",
    "        time_delta[s2][s1].append(-td)\n",
    "\n",
    "lens = []\n",
    "for i in range(len(sensors)):\n",
    "    for j in range(i+1, len(sensors)):\n",
    "        lens.append(len(time_delta[i][j]))\n",
    "\n",
    "np.histogram(lens)"
   ]
  },
  {
   "cell_type": "markdown",
   "metadata": {},
   "source": [
    "We now have all time deltas between stations that picked up the same signal.\n",
    "We model the clock shifts using gaussian distributions, with some mean mu and standard deviation sigma\n",
    "\n",
    "Then, to get time delta probability distribution between two stations that didn't measure the same message, we convolute the probability density functions of stations with directly known time-delta\n",
    "\n",
    "Example:\n",
    "sensors A and B measured the same 100 messages, so we can directly model their time delta distribution function as: td_AB = Gauss(mu_AB, sigma_AB)\n",
    "Similarly, assume we estimate the density function for sensors B and C as Gauss(mu_BC, sigma_BC)\n",
    "\n",
    "Now, to get the density function for sensors A and C, we can convolute these two density functions:\n",
    "density function of time delta A-C = Gauss(mu_AB, sigma_AB) * Gauss(mu_BC, sigma_BC) = Gauss(mu_AB + mu_BC, sqrt(sigma_AB^2 + sigma_BC^2))\n",
    "\n",
    "We do this for all paths going from A to C, and sum up all PDFs to get the final PDF for the time delta between A and C.\n",
    "For efficiency, we could just do a \"shortest path\", where the path lengths are the sum of variances.\n",
    "This way, we just take the \"best\" path, with least uncertainty."
   ]
  },
  {
   "cell_type": "code",
   "execution_count": 29,
   "metadata": {},
   "outputs": [
    {
     "name": "stderr",
     "output_type": "stream",
     "text": [
      "100%|██████████| 1364/1364 [07:30<00:00,  3.03it/s]\n"
     ]
    }
   ],
   "source": [
    "import statistics\n",
    "\n",
    "time_delta_gaussians =  [ [ None for j in range(len(sensors)) ] for i in range(len(sensors)) ]\n",
    "\n",
    "# initialize with directly known time deltas\n",
    "for i in range(len(sensors)):\n",
    "    for j in range(len(sensors)):\n",
    "        if len(time_delta[i][j]) > 1:\n",
    "            mean = statistics.mean(time_delta[i][j])\n",
    "            var = statistics.variance(time_delta[i][j], xbar=mean)\n",
    "            time_delta_gaussians[i][j] = (mean, var)\n",
    "\n",
    "# floyd's algorithm\n",
    "for k in tqdm(range(len(sensors))):\n",
    "    for i in range(len(sensors)):\n",
    "        for j in range(len(sensors)):\n",
    "            if time_delta_gaussians[i][k] is not None and time_delta_gaussians[k][j] is not None:\n",
    "                new_variance = time_delta_gaussians[i][k][1] + time_delta_gaussians[k][j][1]\n",
    "                if time_delta_gaussians[i][j] is None or time_delta_gaussians[i][j][1] > new_variance:\n",
    "                    new_mean = time_delta_gaussians[i][k][0] + time_delta_gaussians[k][j][0]\n",
    "                    time_delta_gaussians[i][j] = (new_mean, new_variance)\n"
   ]
  },
  {
   "cell_type": "code",
   "execution_count": 36,
   "metadata": {},
   "outputs": [
    {
     "name": "stdout",
     "output_type": "stream",
     "text": [
      "Mean Variance: 45.997385069043624\n",
      "Median variance: 5.753407907944094e-10\n",
      "Variance modes: [0.0]\n",
      "Mean nConnections: 41.629132798085074\n",
      "Median nConnections: 19.0\n",
      "nConnections modes: [1]\n"
     ]
    }
   ],
   "source": [
    "variances = [ time_delta_gaussians[i][j][1] for i,j in itertools.combinations(range(len(sensors)), 2) if time_delta_gaussians[i][j] is not None ]\n",
    "num_conns = [ len(time_delta[i][j]) for i,j in itertools.combinations(range(len(sensors)), 2) if len(time_delta[i][j]) > 0]\n",
    "\n",
    "print(\"Mean Variance:\", statistics.mean(variances))\n",
    "print(\"Median variance:\", statistics.median(variances))\n",
    "print(\"Variance modes:\", statistics.multimode(variances))\n",
    "\n",
    "print(\"Mean nConnections:\", statistics.mean(num_conns))\n",
    "print(\"Median nConnections:\", statistics.median(num_conns))\n",
    "print(\"nConnections modes:\", statistics.multimode(num_conns))"
   ]
  },
  {
   "cell_type": "markdown",
   "metadata": {},
   "source": [
    "Using those time deltas, we can now check the aircraft locations"
   ]
  },
  {
   "cell_type": "code",
   "execution_count": 89,
   "metadata": {},
   "outputs": [
    {
     "name": "stderr",
     "output_type": "stream",
     "text": [
      "  0%|          | 3/74616 [00:05<31:20:38,  1.51s/it]"
     ]
    },
    {
     "name": "stdout",
     "output_type": "stream",
     "text": [
      "Broadcast pos: 52.19307 5.83303 8534.4\n",
      "Estimated pos: 52.35135451381608 4.6648244947577355 9.0\n",
      "Dist: 82107.20090310114\n",
      "Broadcast pos: 39.92888 -85.03836 11574.78\n",
      "Estimated pos: 42.7024131101311 -79.95226419396874 207.0\n",
      "Dist: 525554.8880443444\n"
     ]
    },
    {
     "name": "stderr",
     "output_type": "stream",
     "text": [
      "  0%|          | 4/74616 [00:05<22:12:46,  1.07s/it]"
     ]
    },
    {
     "name": "stdout",
     "output_type": "stream",
     "text": [
      "Broadcast pos: 39.95448 -87.92071 10972.800000000001\n",
      "Estimated pos: 40.37118013138301 -86.90925484422935 207.0\n",
      "Dist: 98393.37371406784\n",
      "Broadcast pos: 41.16541 -87.06134 9753.6\n",
      "Estimated pos: 40.38904124841154 -86.8769056189761 207.0\n",
      "Dist: 88128.5383276204\n"
     ]
    },
    {
     "name": "stderr",
     "output_type": "stream",
     "text": [
      "  0%|          | 6/74616 [00:05<13:31:14,  1.53it/s]"
     ]
    },
    {
     "name": "stdout",
     "output_type": "stream",
     "text": [
      "Broadcast pos: 47.76702 8.96329 10972.800000000001\n",
      "Estimated pos: 46.58954980859757 6.62358880846832 710.0\n",
      "Dist: 220655.70826749242\n"
     ]
    },
    {
     "name": "stderr",
     "output_type": "stream",
     "text": [
      "  0%|          | 9/74616 [00:06<9:11:59,  2.25it/s] "
     ]
    },
    {
     "name": "stdout",
     "output_type": "stream",
     "text": [
      "Broadcast pos: 40.80937 -89.40037 10972.800000000001\n",
      "Estimated pos: 35.98158832794476 -93.17321273881967 207.0\n",
      "Dist: 629076.946040256\n",
      "Broadcast pos: 52.63131 5.86246 3825.2400000000002\n",
      "Estimated pos: 52.3561649305701 4.63139 9.0\n",
      "Dist: 89123.79274086202\n"
     ]
    },
    {
     "name": "stderr",
     "output_type": "stream",
     "text": [
      "  0%|          | 10/74616 [00:07<8:04:11,  2.57it/s]"
     ]
    },
    {
     "name": "stdout",
     "output_type": "stream",
     "text": [
      "Broadcast pos: 46.01661 4.07352 11887.2\n",
      "Estimated pos: 46.460482071195116 6.859547592997772 710.0\n",
      "Dist: 220747.2425097269\n",
      "Broadcast pos: 49.47656 13.58272 10668.0\n",
      "Estimated pos: 49.54065345996857 11.026911735534668 319.5671691894531\n",
      "Dist: 185518.61706453923\n",
      "Broadcast pos: 38.94154 -120.41045 13106.400000000001"
     ]
    },
    {
     "name": "stderr",
     "output_type": "stream",
     "text": [
      "  0%|          | 13/74616 [00:07<4:36:45,  4.49it/s]"
     ]
    },
    {
     "name": "stdout",
     "output_type": "stream",
     "text": [
      "\n",
      "Estimated pos: 38.71047799497654 -121.37713845633161 30.0\n",
      "Dist: 88745.11026778573\n",
      "Broadcast pos: 40.64525 -86.57104 10363.2\n",
      "Estimated pos: 40.393649999887415 -86.88090000005629"
     ]
    },
    {
     "name": "stderr",
     "output_type": "stream",
     "text": [
      "  0%|          | 15/74616 [00:07<4:19:01,  4.80it/s]"
     ]
    },
    {
     "name": "stdout",
     "output_type": "stream",
     "text": [
      " 207.0\n",
      "Dist: 39664.0123474982\n",
      "Broadcast pos: 39.48393 -86.33777 10988.04\n",
      "Estimated pos: 40.393286201890895 -86.87980860621784 207.0\n",
      "Dist: 111611.45612336534\n"
     ]
    },
    {
     "name": "stderr",
     "output_type": "stream",
     "text": [
      "  0%|          | 17/74616 [00:07<3:23:02,  6.12it/s]"
     ]
    },
    {
     "name": "stdout",
     "output_type": "stream",
     "text": [
      "Broadcast pos: 43.70943 -90.75073 11582.400000000001\n",
      "Estimated pos: 47.02198731881992 -89.40407250089318 1040.0\n",
      "Dist: 383100.9104804122\n"
     ]
    },
    {
     "name": "stderr",
     "output_type": "stream",
     "text": [
      "  0%|          | 18/74616 [00:08<4:27:07,  4.65it/s]"
     ]
    },
    {
     "name": "stdout",
     "output_type": "stream",
     "text": [
      "Broadcast pos: 38.88145 -84.90826 10005.060000000001\n",
      "Estimated pos: 40.41184005362578 -86.82924038064465 207.0\n",
      "Dist: 236954.89315661183\n"
     ]
    },
    {
     "name": "stderr",
     "output_type": "stream",
     "text": [
      "  0%|          | 19/74616 [00:08<4:33:09,  4.55it/s]"
     ]
    },
    {
     "name": "stdout",
     "output_type": "stream",
     "text": [
      "Broadcast pos: 40.62116 -86.71752 11582.400000000001\n",
      "Estimated pos: 44.77661574697325 -90.05674843086423 207.0\n",
      "Dist: 536614.4941956048\n"
     ]
    },
    {
     "name": "stderr",
     "output_type": "stream",
     "text": [
      "  0%|          | 21/74616 [00:08<4:25:36,  4.68it/s]"
     ]
    },
    {
     "name": "stdout",
     "output_type": "stream",
     "text": [
      "Broadcast pos: 39.82199 -85.35388 9753.6\n",
      "Estimated pos: 40.41184005362578 -86.82924038064465 207.0\n",
      "Dist: 142121.20589672783\n"
     ]
    },
    {
     "name": "stderr",
     "output_type": "stream",
     "text": [
      "  0%|          | 25/74616 [00:17<21:51:43,  1.06s/it]"
     ]
    },
    {
     "name": "stdout",
     "output_type": "stream",
     "text": [
      "Broadcast pos: 52.77864 5.13077 9753.6\n",
      "Estimated pos: 54.96177620831874 7.329860901804382 9.0\n",
      "Dist: 282922.4071819427\n",
      "Broadcast pos: 51.06143 -0.59319 5791.200000000001\n",
      "Estimated pos: 51.80378189892531 1.14018189894146 20.0\n",
      "Dist: 146231.3286654354\n",
      "Broadcast pos: 51.09872 10.0853 10972.800000000001\n",
      "Estimated pos: 52.43702512749556 13.586837523038643 180.0\n",
      "Dist: 284061.3685037418\n"
     ]
    },
    {
     "name": "stderr",
     "output_type": "stream",
     "text": [
      "  0%|          | 29/74616 [00:18<13:10:16,  1.57it/s]"
     ]
    },
    {
     "name": "stdout",
     "output_type": "stream",
     "text": [
      "Broadcast pos: 52.67335 9.99183 10972.800000000001\n",
      "Estimated pos: 53.903415943424335 13.628370389119278 180.0\n",
      "Dist: 278647.6895085257\n",
      "Broadcast pos: 51.31219 14.12025 10972.800000000001\n",
      "Estimated pos: 52.493807656097026 13.585872404299058 180.0\n",
      "Dist: 136945.73210513743\n"
     ]
    },
    {
     "name": "stderr",
     "output_type": "stream",
     "text": [
      "  0%|          | 32/74616 [00:28<36:40:07,  1.77s/it]"
     ]
    },
    {
     "name": "stdout",
     "output_type": "stream",
     "text": [
      "Broadcast pos: 53.35431 -0.19994 11887.2\n",
      "Estimated pos: 46.72115489140705 9.874171207662014 20.0\n",
      "Dist: 1030286.820568343\n",
      "Broadcast pos: 50.17372 16.45381 10972.800000000001\n",
      "Estimated pos: 52.4356000758524 13.5866 180.0\n",
      "Dist: 321537.6769771322\n"
     ]
    },
    {
     "name": "stderr",
     "output_type": "stream",
     "text": [
      "  0%|          | 34/74616 [00:28<27:06:13,  1.31s/it]"
     ]
    },
    {
     "name": "stdout",
     "output_type": "stream",
     "text": [
      "Broadcast pos: 42.65656 -79.03411 12192.0\n",
      "Estimated pos: 43.1135733910396 -77.08866757859965 0.3048\n",
      "Dist: 167280.93790615478\n"
     ]
    },
    {
     "name": "stderr",
     "output_type": "stream",
     "text": [
      "  0%|          | 36/74616 [00:29<23:13:49,  1.12s/it]"
     ]
    },
    {
     "name": "stdout",
     "output_type": "stream",
     "text": [
      "Broadcast pos: 51.35147 0.06495 11887.2\n",
      "Estimated pos: 54.249804861953486 -0.6418797448979381 20.0\n",
      "Dist: 326249.2255299747\n"
     ]
    },
    {
     "name": "stderr",
     "output_type": "stream",
     "text": [
      "  0%|          | 37/74616 [00:30<22:41:11,  1.10s/it]"
     ]
    },
    {
     "name": "stdout",
     "output_type": "stream",
     "text": [
      "Broadcast pos: 52.03349 2.43698 10934.7\n",
      "Estimated pos: 51.8297 4.765155186781102 10.0\n",
      "Dist: 162096.7293725737\n"
     ]
    },
    {
     "name": "stderr",
     "output_type": "stream",
     "text": [
      "  0%|          | 42/74616 [00:31<10:28:54,  1.98it/s]"
     ]
    },
    {
     "name": "stdout",
     "output_type": "stream",
     "text": [
      "Broadcast pos: 51.86227 8.03329 9448.800000000001\n",
      "Estimated pos: 48.77039472466952 11.486908311180354 46.0\n",
      "Dist: 422835.67041398317\n",
      "Broadcast pos: 42.51631 -92.34215 10668.0\n",
      "Estimated pos: 43.09523774859089 -89.19830401649469 300.0\n",
      "Dist: 265262.6238968564\n",
      "Broadcast pos: 47.07046 12.45681 9753.6\n",
      "Estimated pos: 48.318325 11.662741 469.0\n",
      "Dist: 151288.25952374734\n"
     ]
    },
    {
     "name": "stderr",
     "output_type": "stream",
     "text": [
      "  0%|          | 44/74616 [00:32<9:57:19,  2.08it/s] "
     ]
    },
    {
     "name": "stdout",
     "output_type": "stream",
     "text": [
      "Broadcast pos: 39.24394 -76.59823 3147.06\n",
      "Estimated pos: 38.012438505207015 -78.13011931247051 0.0\n",
      "Dist: 191024.07514472006\n"
     ]
    },
    {
     "name": "stderr",
     "output_type": "stream",
     "text": [
      "  0%|          | 49/74616 [00:33<5:37:49,  3.68it/s]"
     ]
    },
    {
     "name": "stdout",
     "output_type": "stream",
     "text": [
      "Broadcast pos: 52.54426 -12.09783 12192.0\n",
      "Estimated pos: 54.593238393631445 -7.984129123572301 65.98667907714844\n",
      "Dist: 355467.4112982654\n",
      "Broadcast pos: 53.40468 -5.91888 1143.0\n",
      "Estimated pos: 53.299352422721256 -6.760650737469093 65.98667907714844\n",
      "Dist: 57275.782421518335\n"
     ]
    },
    {
     "name": "stderr",
     "output_type": "stream",
     "text": [
      "  0%|          | 51/74616 [00:33<4:49:38,  4.29it/s]"
     ]
    },
    {
     "name": "stdout",
     "output_type": "stream",
     "text": [
      "Broadcast pos: 32.42917 -110.51224 8648.7\n",
      "Estimated pos: 33.61973692649993 -111.78461420031626 383.0\n",
      "Dist: 177855.7397581771\n"
     ]
    },
    {
     "name": "stderr",
     "output_type": "stream",
     "text": [
      "  0%|          | 56/74616 [00:33<3:14:40,  6.38it/s]"
     ]
    },
    {
     "name": "stdout",
     "output_type": "stream",
     "text": [
      "Broadcast pos: 50.31747 3.44682 7604.76\n",
      "Estimated pos: 51.82807055703559 4.764527469105449 10.0\n",
      "Dist: 191901.66510126984\n"
     ]
    },
    {
     "name": "stderr",
     "output_type": "stream",
     "text": [
      "  0%|          | 58/74616 [00:34<3:14:48,  6.38it/s]"
     ]
    },
    {
     "name": "stdout",
     "output_type": "stream",
     "text": [
      "Broadcast pos: 43.07336 -88.84375 10972.800000000001\n",
      "Estimated pos: 45.086649530017425 -88.07836747794917 300.0\n",
      "Dist: 232194.7745676783\n"
     ]
    },
    {
     "name": "stderr",
     "output_type": "stream",
     "text": [
      "  0%|          | 59/74616 [00:35<5:08:06,  4.03it/s]"
     ]
    },
    {
     "name": "stdout",
     "output_type": "stream",
     "text": [
      "Broadcast pos: 38.21813 -76.97326 11277.6\n",
      "Estimated pos: 38.44451031711938 -77.90114465920067 0.0\n",
      "Dist: 85677.87625414912\n"
     ]
    },
    {
     "name": "stderr",
     "output_type": "stream",
     "text": [
      "  0%|          | 60/74616 [00:35<12:11:54,  1.70it/s]"
     ]
    },
    {
     "name": "stdout",
     "output_type": "stream",
     "text": [
      "Broadcast pos: 51.12259 4.23709 1729.74\n",
      "Estimated pos: 51.49782647215581 4.284365277610843 16.0\n",
      "Dist: 41911.631854914216\n"
     ]
    },
    {
     "name": "stderr",
     "output_type": "stream",
     "text": [
      "\n"
     ]
    },
    {
     "ename": "TypeError",
     "evalue": "'NoneType' object is not subscriptable",
     "output_type": "error",
     "traceback": [
      "\u001b[1;31m---------------------------------------------------------------------------\u001b[0m",
      "\u001b[1;31mTypeError\u001b[0m                                 Traceback (most recent call last)",
      "\u001b[1;32mC:\\Users\\LUKASB~1\\AppData\\Local\\Temp/ipykernel_36112/407173962.py\u001b[0m in \u001b[0;36m<module>\u001b[1;34m\u001b[0m\n\u001b[0;32m     80\u001b[0m         \u001b[1;32mcontinue\u001b[0m\u001b[1;33m\u001b[0m\u001b[1;33m\u001b[0m\u001b[0m\n\u001b[0;32m     81\u001b[0m \u001b[1;33m\u001b[0m\u001b[0m\n\u001b[1;32m---> 82\u001b[1;33m     \u001b[0mestimated_pos\u001b[0m \u001b[1;33m=\u001b[0m \u001b[0mestimate_position\u001b[0m\u001b[1;33m(\u001b[0m\u001b[1;33m*\u001b[0m\u001b[0mzip\u001b[0m\u001b[1;33m(\u001b[0m\u001b[1;33m*\u001b[0m\u001b[0mreceived\u001b[0m\u001b[1;33m[\u001b[0m\u001b[0mmsg\u001b[0m\u001b[1;33m]\u001b[0m\u001b[1;33m[\u001b[0m\u001b[1;34m\"sensors\"\u001b[0m\u001b[1;33m]\u001b[0m\u001b[1;33m)\u001b[0m\u001b[1;33m,\u001b[0m \u001b[0mtime_delta_gaussians\u001b[0m\u001b[1;33m,\u001b[0m \u001b[0msensors\u001b[0m\u001b[1;33m)\u001b[0m\u001b[1;33m\u001b[0m\u001b[1;33m\u001b[0m\u001b[0m\n\u001b[0m\u001b[0;32m     83\u001b[0m     \u001b[0mreceived\u001b[0m\u001b[1;33m[\u001b[0m\u001b[0mmsg\u001b[0m\u001b[1;33m]\u001b[0m\u001b[1;33m[\u001b[0m\u001b[1;34m\"estimated_pos\"\u001b[0m\u001b[1;33m]\u001b[0m \u001b[1;33m=\u001b[0m \u001b[0mestimated_pos\u001b[0m\u001b[1;33m\u001b[0m\u001b[1;33m\u001b[0m\u001b[0m\n\u001b[0;32m     84\u001b[0m     \u001b[0mprint\u001b[0m\u001b[1;33m(\u001b[0m\u001b[1;34m\"Broadcast pos:\"\u001b[0m\u001b[1;33m,\u001b[0m \u001b[0mreceived\u001b[0m\u001b[1;33m[\u001b[0m\u001b[0mmsg\u001b[0m\u001b[1;33m]\u001b[0m\u001b[1;33m[\u001b[0m\u001b[1;34m\"pos\"\u001b[0m\u001b[1;33m]\u001b[0m\u001b[1;33m.\u001b[0m\u001b[0mlat\u001b[0m\u001b[1;33m,\u001b[0m \u001b[0mreceived\u001b[0m\u001b[1;33m[\u001b[0m\u001b[0mmsg\u001b[0m\u001b[1;33m]\u001b[0m\u001b[1;33m[\u001b[0m\u001b[1;34m\"pos\"\u001b[0m\u001b[1;33m]\u001b[0m\u001b[1;33m.\u001b[0m\u001b[0mlon\u001b[0m\u001b[1;33m,\u001b[0m \u001b[0mreceived\u001b[0m\u001b[1;33m[\u001b[0m\u001b[0mmsg\u001b[0m\u001b[1;33m]\u001b[0m\u001b[1;33m[\u001b[0m\u001b[1;34m\"pos\"\u001b[0m\u001b[1;33m]\u001b[0m\u001b[1;33m.\u001b[0m\u001b[0malt\u001b[0m\u001b[1;33m)\u001b[0m\u001b[1;33m\u001b[0m\u001b[1;33m\u001b[0m\u001b[0m\n",
      "\u001b[1;32mC:\\Users\\LUKASB~1\\AppData\\Local\\Temp/ipykernel_36112/407173962.py\u001b[0m in \u001b[0;36mestimate_position\u001b[1;34m(sensor_timestamps, sensor_ids, time_delta_gaussians, sensors)\u001b[0m\n\u001b[0;32m     72\u001b[0m     \u001b[0mbounds\u001b[0m \u001b[1;33m=\u001b[0m \u001b[0mscipy\u001b[0m\u001b[1;33m.\u001b[0m\u001b[0moptimize\u001b[0m\u001b[1;33m.\u001b[0m\u001b[0mBounds\u001b[0m\u001b[1;33m(\u001b[0m\u001b[1;33m[\u001b[0m\u001b[1;33m-\u001b[0m\u001b[1;36m90\u001b[0m\u001b[1;33m,\u001b[0m \u001b[1;33m-\u001b[0m\u001b[1;36m180\u001b[0m\u001b[1;33m,\u001b[0m \u001b[1;36m0\u001b[0m\u001b[1;33m]\u001b[0m\u001b[1;33m,\u001b[0m \u001b[1;33m[\u001b[0m\u001b[1;36m90\u001b[0m\u001b[1;33m,\u001b[0m \u001b[1;36m180\u001b[0m\u001b[1;33m,\u001b[0m \u001b[1;36m100000\u001b[0m\u001b[1;33m]\u001b[0m\u001b[1;33m)\u001b[0m\u001b[1;33m\u001b[0m\u001b[1;33m\u001b[0m\u001b[0m\n\u001b[0;32m     73\u001b[0m     \u001b[0mmethod\u001b[0m \u001b[1;33m=\u001b[0m \u001b[1;34m'L-BFGS-B'\u001b[0m\u001b[1;33m\u001b[0m\u001b[1;33m\u001b[0m\u001b[0m\n\u001b[1;32m---> 74\u001b[1;33m     \u001b[1;32mreturn\u001b[0m \u001b[0mposition_estimator\u001b[0m\u001b[1;33m.\u001b[0m\u001b[0mGeoPoint\u001b[0m\u001b[1;33m(\u001b[0m\u001b[1;33m*\u001b[0m\u001b[0mscipy\u001b[0m\u001b[1;33m.\u001b[0m\u001b[0moptimize\u001b[0m\u001b[1;33m.\u001b[0m\u001b[0mminimize\u001b[0m\u001b[1;33m(\u001b[0m\u001b[0mresidual_error4\u001b[0m\u001b[1;33m,\u001b[0m \u001b[0msensors\u001b[0m\u001b[1;33m[\u001b[0m\u001b[0msensor_ids\u001b[0m\u001b[1;33m[\u001b[0m\u001b[1;36m0\u001b[0m\u001b[1;33m]\u001b[0m\u001b[1;33m]\u001b[0m\u001b[1;33m[\u001b[0m\u001b[1;33m:\u001b[0m\u001b[1;36m3\u001b[0m\u001b[1;33m]\u001b[0m\u001b[1;33m,\u001b[0m \u001b[0mmethod\u001b[0m\u001b[1;33m=\u001b[0m\u001b[0mmethod\u001b[0m\u001b[1;33m,\u001b[0m \u001b[0mbounds\u001b[0m\u001b[1;33m=\u001b[0m\u001b[0mbounds\u001b[0m\u001b[1;33m)\u001b[0m\u001b[1;33m.\u001b[0m\u001b[0mx\u001b[0m\u001b[1;33m)\u001b[0m\u001b[1;33m\u001b[0m\u001b[1;33m\u001b[0m\u001b[0m\n\u001b[0m\u001b[0;32m     75\u001b[0m \u001b[1;33m\u001b[0m\u001b[0m\n\u001b[0;32m     76\u001b[0m \u001b[1;33m\u001b[0m\u001b[0m\n",
      "\u001b[1;32m~\\AppData\\Local\\Packages\\PythonSoftwareFoundation.Python.3.9_qbz5n2kfra8p0\\LocalCache\\local-packages\\Python39\\site-packages\\scipy\\optimize\\_minimize.py\u001b[0m in \u001b[0;36mminimize\u001b[1;34m(fun, x0, args, method, jac, hess, hessp, bounds, constraints, tol, callback, options)\u001b[0m\n\u001b[0;32m    621\u001b[0m                                   **options)\n\u001b[0;32m    622\u001b[0m     \u001b[1;32melif\u001b[0m \u001b[0mmeth\u001b[0m \u001b[1;33m==\u001b[0m \u001b[1;34m'l-bfgs-b'\u001b[0m\u001b[1;33m:\u001b[0m\u001b[1;33m\u001b[0m\u001b[1;33m\u001b[0m\u001b[0m\n\u001b[1;32m--> 623\u001b[1;33m         return _minimize_lbfgsb(fun, x0, args, jac, bounds,\n\u001b[0m\u001b[0;32m    624\u001b[0m                                 callback=callback, **options)\n\u001b[0;32m    625\u001b[0m     \u001b[1;32melif\u001b[0m \u001b[0mmeth\u001b[0m \u001b[1;33m==\u001b[0m \u001b[1;34m'tnc'\u001b[0m\u001b[1;33m:\u001b[0m\u001b[1;33m\u001b[0m\u001b[1;33m\u001b[0m\u001b[0m\n",
      "\u001b[1;32m~\\AppData\\Local\\Packages\\PythonSoftwareFoundation.Python.3.9_qbz5n2kfra8p0\\LocalCache\\local-packages\\Python39\\site-packages\\scipy\\optimize\\lbfgsb.py\u001b[0m in \u001b[0;36m_minimize_lbfgsb\u001b[1;34m(fun, x0, args, jac, bounds, disp, maxcor, ftol, gtol, eps, maxfun, maxiter, iprint, callback, maxls, finite_diff_rel_step, **unknown_options)\u001b[0m\n\u001b[0;32m    304\u001b[0m             \u001b[0miprint\u001b[0m \u001b[1;33m=\u001b[0m \u001b[0mdisp\u001b[0m\u001b[1;33m\u001b[0m\u001b[1;33m\u001b[0m\u001b[0m\n\u001b[0;32m    305\u001b[0m \u001b[1;33m\u001b[0m\u001b[0m\n\u001b[1;32m--> 306\u001b[1;33m     sf = _prepare_scalar_function(fun, x0, jac=jac, args=args, epsilon=eps,\n\u001b[0m\u001b[0;32m    307\u001b[0m                                   \u001b[0mbounds\u001b[0m\u001b[1;33m=\u001b[0m\u001b[0mnew_bounds\u001b[0m\u001b[1;33m,\u001b[0m\u001b[1;33m\u001b[0m\u001b[1;33m\u001b[0m\u001b[0m\n\u001b[0;32m    308\u001b[0m                                   finite_diff_rel_step=finite_diff_rel_step)\n",
      "\u001b[1;32m~\\AppData\\Local\\Packages\\PythonSoftwareFoundation.Python.3.9_qbz5n2kfra8p0\\LocalCache\\local-packages\\Python39\\site-packages\\scipy\\optimize\\optimize.py\u001b[0m in \u001b[0;36m_prepare_scalar_function\u001b[1;34m(fun, x0, jac, args, bounds, epsilon, finite_diff_rel_step, hess)\u001b[0m\n\u001b[0;32m    259\u001b[0m     \u001b[1;31m# ScalarFunction caches. Reuse of fun(x) during grad\u001b[0m\u001b[1;33m\u001b[0m\u001b[1;33m\u001b[0m\u001b[0m\n\u001b[0;32m    260\u001b[0m     \u001b[1;31m# calculation reduces overall function evaluations.\u001b[0m\u001b[1;33m\u001b[0m\u001b[1;33m\u001b[0m\u001b[0m\n\u001b[1;32m--> 261\u001b[1;33m     sf = ScalarFunction(fun, x0, args, grad, hess,\n\u001b[0m\u001b[0;32m    262\u001b[0m                         finite_diff_rel_step, bounds, epsilon=epsilon)\n\u001b[0;32m    263\u001b[0m \u001b[1;33m\u001b[0m\u001b[0m\n",
      "\u001b[1;32m~\\AppData\\Local\\Packages\\PythonSoftwareFoundation.Python.3.9_qbz5n2kfra8p0\\LocalCache\\local-packages\\Python39\\site-packages\\scipy\\optimize\\_differentiable_functions.py\u001b[0m in \u001b[0;36m__init__\u001b[1;34m(self, fun, x0, args, grad, hess, finite_diff_rel_step, finite_diff_bounds, epsilon)\u001b[0m\n\u001b[0;32m    138\u001b[0m \u001b[1;33m\u001b[0m\u001b[0m\n\u001b[0;32m    139\u001b[0m         \u001b[0mself\u001b[0m\u001b[1;33m.\u001b[0m\u001b[0m_update_fun_impl\u001b[0m \u001b[1;33m=\u001b[0m \u001b[0mupdate_fun\u001b[0m\u001b[1;33m\u001b[0m\u001b[1;33m\u001b[0m\u001b[0m\n\u001b[1;32m--> 140\u001b[1;33m         \u001b[0mself\u001b[0m\u001b[1;33m.\u001b[0m\u001b[0m_update_fun\u001b[0m\u001b[1;33m(\u001b[0m\u001b[1;33m)\u001b[0m\u001b[1;33m\u001b[0m\u001b[1;33m\u001b[0m\u001b[0m\n\u001b[0m\u001b[0;32m    141\u001b[0m \u001b[1;33m\u001b[0m\u001b[0m\n\u001b[0;32m    142\u001b[0m         \u001b[1;31m# Gradient evaluation\u001b[0m\u001b[1;33m\u001b[0m\u001b[1;33m\u001b[0m\u001b[0m\n",
      "\u001b[1;32m~\\AppData\\Local\\Packages\\PythonSoftwareFoundation.Python.3.9_qbz5n2kfra8p0\\LocalCache\\local-packages\\Python39\\site-packages\\scipy\\optimize\\_differentiable_functions.py\u001b[0m in \u001b[0;36m_update_fun\u001b[1;34m(self)\u001b[0m\n\u001b[0;32m    231\u001b[0m     \u001b[1;32mdef\u001b[0m \u001b[0m_update_fun\u001b[0m\u001b[1;33m(\u001b[0m\u001b[0mself\u001b[0m\u001b[1;33m)\u001b[0m\u001b[1;33m:\u001b[0m\u001b[1;33m\u001b[0m\u001b[1;33m\u001b[0m\u001b[0m\n\u001b[0;32m    232\u001b[0m         \u001b[1;32mif\u001b[0m \u001b[1;32mnot\u001b[0m \u001b[0mself\u001b[0m\u001b[1;33m.\u001b[0m\u001b[0mf_updated\u001b[0m\u001b[1;33m:\u001b[0m\u001b[1;33m\u001b[0m\u001b[1;33m\u001b[0m\u001b[0m\n\u001b[1;32m--> 233\u001b[1;33m             \u001b[0mself\u001b[0m\u001b[1;33m.\u001b[0m\u001b[0m_update_fun_impl\u001b[0m\u001b[1;33m(\u001b[0m\u001b[1;33m)\u001b[0m\u001b[1;33m\u001b[0m\u001b[1;33m\u001b[0m\u001b[0m\n\u001b[0m\u001b[0;32m    234\u001b[0m             \u001b[0mself\u001b[0m\u001b[1;33m.\u001b[0m\u001b[0mf_updated\u001b[0m \u001b[1;33m=\u001b[0m \u001b[1;32mTrue\u001b[0m\u001b[1;33m\u001b[0m\u001b[1;33m\u001b[0m\u001b[0m\n\u001b[0;32m    235\u001b[0m \u001b[1;33m\u001b[0m\u001b[0m\n",
      "\u001b[1;32m~\\AppData\\Local\\Packages\\PythonSoftwareFoundation.Python.3.9_qbz5n2kfra8p0\\LocalCache\\local-packages\\Python39\\site-packages\\scipy\\optimize\\_differentiable_functions.py\u001b[0m in \u001b[0;36mupdate_fun\u001b[1;34m()\u001b[0m\n\u001b[0;32m    135\u001b[0m \u001b[1;33m\u001b[0m\u001b[0m\n\u001b[0;32m    136\u001b[0m         \u001b[1;32mdef\u001b[0m \u001b[0mupdate_fun\u001b[0m\u001b[1;33m(\u001b[0m\u001b[1;33m)\u001b[0m\u001b[1;33m:\u001b[0m\u001b[1;33m\u001b[0m\u001b[1;33m\u001b[0m\u001b[0m\n\u001b[1;32m--> 137\u001b[1;33m             \u001b[0mself\u001b[0m\u001b[1;33m.\u001b[0m\u001b[0mf\u001b[0m \u001b[1;33m=\u001b[0m \u001b[0mfun_wrapped\u001b[0m\u001b[1;33m(\u001b[0m\u001b[0mself\u001b[0m\u001b[1;33m.\u001b[0m\u001b[0mx\u001b[0m\u001b[1;33m)\u001b[0m\u001b[1;33m\u001b[0m\u001b[1;33m\u001b[0m\u001b[0m\n\u001b[0m\u001b[0;32m    138\u001b[0m \u001b[1;33m\u001b[0m\u001b[0m\n\u001b[0;32m    139\u001b[0m         \u001b[0mself\u001b[0m\u001b[1;33m.\u001b[0m\u001b[0m_update_fun_impl\u001b[0m \u001b[1;33m=\u001b[0m \u001b[0mupdate_fun\u001b[0m\u001b[1;33m\u001b[0m\u001b[1;33m\u001b[0m\u001b[0m\n",
      "\u001b[1;32m~\\AppData\\Local\\Packages\\PythonSoftwareFoundation.Python.3.9_qbz5n2kfra8p0\\LocalCache\\local-packages\\Python39\\site-packages\\scipy\\optimize\\_differentiable_functions.py\u001b[0m in \u001b[0;36mfun_wrapped\u001b[1;34m(x)\u001b[0m\n\u001b[0;32m    132\u001b[0m             \u001b[1;31m# Overwriting results in undefined behaviour because\u001b[0m\u001b[1;33m\u001b[0m\u001b[1;33m\u001b[0m\u001b[0m\n\u001b[0;32m    133\u001b[0m             \u001b[1;31m# fun(self.x) will change self.x, with the two no longer linked.\u001b[0m\u001b[1;33m\u001b[0m\u001b[1;33m\u001b[0m\u001b[0m\n\u001b[1;32m--> 134\u001b[1;33m             \u001b[1;32mreturn\u001b[0m \u001b[0mfun\u001b[0m\u001b[1;33m(\u001b[0m\u001b[0mnp\u001b[0m\u001b[1;33m.\u001b[0m\u001b[0mcopy\u001b[0m\u001b[1;33m(\u001b[0m\u001b[0mx\u001b[0m\u001b[1;33m)\u001b[0m\u001b[1;33m,\u001b[0m \u001b[1;33m*\u001b[0m\u001b[0margs\u001b[0m\u001b[1;33m)\u001b[0m\u001b[1;33m\u001b[0m\u001b[1;33m\u001b[0m\u001b[0m\n\u001b[0m\u001b[0;32m    135\u001b[0m \u001b[1;33m\u001b[0m\u001b[0m\n\u001b[0;32m    136\u001b[0m         \u001b[1;32mdef\u001b[0m \u001b[0mupdate_fun\u001b[0m\u001b[1;33m(\u001b[0m\u001b[1;33m)\u001b[0m\u001b[1;33m:\u001b[0m\u001b[1;33m\u001b[0m\u001b[1;33m\u001b[0m\u001b[0m\n",
      "\u001b[1;32mC:\\Users\\LUKASB~1\\AppData\\Local\\Temp/ipykernel_36112/407173962.py\u001b[0m in \u001b[0;36mresidual_error4\u001b[1;34m(p)\u001b[0m\n\u001b[0;32m     59\u001b[0m         \u001b[0mval\u001b[0m \u001b[1;33m=\u001b[0m \u001b[1;33m(\u001b[0m\u001b[1;36m100000\u001b[0m\u001b[1;33m,\u001b[0m \u001b[1;32mNone\u001b[0m\u001b[1;33m)\u001b[0m\u001b[1;33m\u001b[0m\u001b[1;33m\u001b[0m\u001b[0m\n\u001b[0;32m     60\u001b[0m         \u001b[1;32mfor\u001b[0m \u001b[0ma\u001b[0m\u001b[1;33m,\u001b[0m \u001b[0mb\u001b[0m\u001b[1;33m,\u001b[0m \u001b[0mc\u001b[0m\u001b[1;33m,\u001b[0m \u001b[0md\u001b[0m \u001b[1;32min\u001b[0m \u001b[0mitertools\u001b[0m\u001b[1;33m.\u001b[0m\u001b[0mcombinations\u001b[0m\u001b[1;33m(\u001b[0m\u001b[0mrange\u001b[0m\u001b[1;33m(\u001b[0m\u001b[0mlen\u001b[0m\u001b[1;33m(\u001b[0m\u001b[0msensor_ids\u001b[0m\u001b[1;33m)\u001b[0m\u001b[1;33m)\u001b[0m\u001b[1;33m,\u001b[0m \u001b[1;36m4\u001b[0m\u001b[1;33m)\u001b[0m\u001b[1;33m:\u001b[0m\u001b[1;33m\u001b[0m\u001b[1;33m\u001b[0m\u001b[0m\n\u001b[1;32m---> 61\u001b[1;33m             \u001b[0ms\u001b[0m \u001b[1;33m=\u001b[0m \u001b[0msum\u001b[0m\u001b[1;33m(\u001b[0m\u001b[1;33m[\u001b[0m\u001b[0mtime_delta_gaussians\u001b[0m\u001b[1;33m[\u001b[0m\u001b[0msensor_ids\u001b[0m\u001b[1;33m[\u001b[0m\u001b[0me\u001b[0m\u001b[1;33m]\u001b[0m\u001b[1;33m]\u001b[0m\u001b[1;33m[\u001b[0m\u001b[0msensor_ids\u001b[0m\u001b[1;33m[\u001b[0m\u001b[0mf\u001b[0m\u001b[1;33m]\u001b[0m\u001b[1;33m]\u001b[0m\u001b[1;33m[\u001b[0m\u001b[1;36m1\u001b[0m\u001b[1;33m]\u001b[0m \u001b[1;32mfor\u001b[0m \u001b[0me\u001b[0m\u001b[1;33m,\u001b[0m\u001b[0mf\u001b[0m \u001b[1;32min\u001b[0m \u001b[0mitertools\u001b[0m\u001b[1;33m.\u001b[0m\u001b[0mcombinations\u001b[0m\u001b[1;33m(\u001b[0m\u001b[1;33m[\u001b[0m\u001b[0ma\u001b[0m\u001b[1;33m,\u001b[0m\u001b[0mb\u001b[0m\u001b[1;33m,\u001b[0m\u001b[0mc\u001b[0m\u001b[1;33m,\u001b[0m\u001b[0md\u001b[0m\u001b[1;33m]\u001b[0m\u001b[1;33m,\u001b[0m\u001b[1;36m2\u001b[0m\u001b[1;33m)\u001b[0m\u001b[1;33m]\u001b[0m\u001b[1;33m)\u001b[0m\u001b[1;33m\u001b[0m\u001b[1;33m\u001b[0m\u001b[0m\n\u001b[0m\u001b[0;32m     62\u001b[0m             \u001b[0mval\u001b[0m \u001b[1;33m=\u001b[0m \u001b[0mmin\u001b[0m\u001b[1;33m(\u001b[0m\u001b[0mval\u001b[0m\u001b[1;33m,\u001b[0m \u001b[1;33m(\u001b[0m\u001b[0ms\u001b[0m\u001b[1;33m,\u001b[0m \u001b[1;33m(\u001b[0m\u001b[0ma\u001b[0m\u001b[1;33m,\u001b[0m\u001b[0mb\u001b[0m\u001b[1;33m,\u001b[0m\u001b[0mc\u001b[0m\u001b[1;33m,\u001b[0m\u001b[0md\u001b[0m\u001b[1;33m)\u001b[0m\u001b[1;33m)\u001b[0m\u001b[1;33m)\u001b[0m\u001b[1;33m\u001b[0m\u001b[1;33m\u001b[0m\u001b[0m\n\u001b[0;32m     63\u001b[0m         \u001b[0merr\u001b[0m \u001b[1;33m=\u001b[0m \u001b[1;36m0\u001b[0m\u001b[1;33m\u001b[0m\u001b[1;33m\u001b[0m\u001b[0m\n",
      "\u001b[1;32mC:\\Users\\LUKASB~1\\AppData\\Local\\Temp/ipykernel_36112/407173962.py\u001b[0m in \u001b[0;36m<listcomp>\u001b[1;34m(.0)\u001b[0m\n\u001b[0;32m     59\u001b[0m         \u001b[0mval\u001b[0m \u001b[1;33m=\u001b[0m \u001b[1;33m(\u001b[0m\u001b[1;36m100000\u001b[0m\u001b[1;33m,\u001b[0m \u001b[1;32mNone\u001b[0m\u001b[1;33m)\u001b[0m\u001b[1;33m\u001b[0m\u001b[1;33m\u001b[0m\u001b[0m\n\u001b[0;32m     60\u001b[0m         \u001b[1;32mfor\u001b[0m \u001b[0ma\u001b[0m\u001b[1;33m,\u001b[0m \u001b[0mb\u001b[0m\u001b[1;33m,\u001b[0m \u001b[0mc\u001b[0m\u001b[1;33m,\u001b[0m \u001b[0md\u001b[0m \u001b[1;32min\u001b[0m \u001b[0mitertools\u001b[0m\u001b[1;33m.\u001b[0m\u001b[0mcombinations\u001b[0m\u001b[1;33m(\u001b[0m\u001b[0mrange\u001b[0m\u001b[1;33m(\u001b[0m\u001b[0mlen\u001b[0m\u001b[1;33m(\u001b[0m\u001b[0msensor_ids\u001b[0m\u001b[1;33m)\u001b[0m\u001b[1;33m)\u001b[0m\u001b[1;33m,\u001b[0m \u001b[1;36m4\u001b[0m\u001b[1;33m)\u001b[0m\u001b[1;33m:\u001b[0m\u001b[1;33m\u001b[0m\u001b[1;33m\u001b[0m\u001b[0m\n\u001b[1;32m---> 61\u001b[1;33m             \u001b[0ms\u001b[0m \u001b[1;33m=\u001b[0m \u001b[0msum\u001b[0m\u001b[1;33m(\u001b[0m\u001b[1;33m[\u001b[0m\u001b[0mtime_delta_gaussians\u001b[0m\u001b[1;33m[\u001b[0m\u001b[0msensor_ids\u001b[0m\u001b[1;33m[\u001b[0m\u001b[0me\u001b[0m\u001b[1;33m]\u001b[0m\u001b[1;33m]\u001b[0m\u001b[1;33m[\u001b[0m\u001b[0msensor_ids\u001b[0m\u001b[1;33m[\u001b[0m\u001b[0mf\u001b[0m\u001b[1;33m]\u001b[0m\u001b[1;33m]\u001b[0m\u001b[1;33m[\u001b[0m\u001b[1;36m1\u001b[0m\u001b[1;33m]\u001b[0m \u001b[1;32mfor\u001b[0m \u001b[0me\u001b[0m\u001b[1;33m,\u001b[0m\u001b[0mf\u001b[0m \u001b[1;32min\u001b[0m \u001b[0mitertools\u001b[0m\u001b[1;33m.\u001b[0m\u001b[0mcombinations\u001b[0m\u001b[1;33m(\u001b[0m\u001b[1;33m[\u001b[0m\u001b[0ma\u001b[0m\u001b[1;33m,\u001b[0m\u001b[0mb\u001b[0m\u001b[1;33m,\u001b[0m\u001b[0mc\u001b[0m\u001b[1;33m,\u001b[0m\u001b[0md\u001b[0m\u001b[1;33m]\u001b[0m\u001b[1;33m,\u001b[0m\u001b[1;36m2\u001b[0m\u001b[1;33m)\u001b[0m\u001b[1;33m]\u001b[0m\u001b[1;33m)\u001b[0m\u001b[1;33m\u001b[0m\u001b[1;33m\u001b[0m\u001b[0m\n\u001b[0m\u001b[0;32m     62\u001b[0m             \u001b[0mval\u001b[0m \u001b[1;33m=\u001b[0m \u001b[0mmin\u001b[0m\u001b[1;33m(\u001b[0m\u001b[0mval\u001b[0m\u001b[1;33m,\u001b[0m \u001b[1;33m(\u001b[0m\u001b[0ms\u001b[0m\u001b[1;33m,\u001b[0m \u001b[1;33m(\u001b[0m\u001b[0ma\u001b[0m\u001b[1;33m,\u001b[0m\u001b[0mb\u001b[0m\u001b[1;33m,\u001b[0m\u001b[0mc\u001b[0m\u001b[1;33m,\u001b[0m\u001b[0md\u001b[0m\u001b[1;33m)\u001b[0m\u001b[1;33m)\u001b[0m\u001b[1;33m)\u001b[0m\u001b[1;33m\u001b[0m\u001b[1;33m\u001b[0m\u001b[0m\n\u001b[0;32m     63\u001b[0m         \u001b[0merr\u001b[0m \u001b[1;33m=\u001b[0m \u001b[1;36m0\u001b[0m\u001b[1;33m\u001b[0m\u001b[1;33m\u001b[0m\u001b[0m\n",
      "\u001b[1;31mTypeError\u001b[0m: 'NoneType' object is not subscriptable"
     ]
    }
   ],
   "source": [
    "import scipy.optimize\n",
    "\n",
    "def estimate_position(sensor_timestamps, sensor_ids, time_delta_gaussians, sensors):\n",
    "    assert len(sensor_timestamps) >= 4\n",
    "    assert len(sensor_timestamps) == len(sensor_ids)\n",
    "\n",
    "    # we want to find a position p, for which we want to minimize some objective function.\n",
    "    # this objective function is subject to the time deltas,\n",
    "    # and the distances from the estimated position and the sensor positions\n",
    "    # also, we should consider the variances in the time delta distributions:\n",
    "    # if some time delta probability distribution has very big variance,\n",
    "    # we can't trust that sensor to the same degree as a sensor with a small time delta variance\n",
    "\n",
    "    # attempt 1:\n",
    "    def residual_error(p):\n",
    "        p = position_estimator.GeoPoint(*p)\n",
    "        #print(\"p:\", p.lat, p.lon, p.alt)\n",
    "        err = 0\n",
    "        for i,j in itertools.combinations(range(len(sensor_ids)), 2):\n",
    "            if time_delta_gaussians[sensor_ids[i]][sensor_ids[j]] is None:\n",
    "                continue\n",
    "\n",
    "            dist_i = p.dist(position_estimator.GeoPoint(*sensors[sensor_ids[i]][:3]))\n",
    "            dist_j = p.dist(position_estimator.GeoPoint(*sensors[sensor_ids[j]][:3]))\n",
    "            t_i = sensor_timestamps[i] - dist_i / C\n",
    "            t_j = sensor_timestamps[j] - dist_j / C\n",
    "            #print(sensor_ids[i], sensor_ids[j], t_i, t_j, time_delta_gaussians[sensor_ids[i]][sensor_ids[j]])\n",
    "            e = (t_i - t_j - time_delta_gaussians[sensor_ids[i]][sensor_ids[j]][0]) ** 2 / time_delta_gaussians[sensor_ids[i]][sensor_ids[j]][1]\n",
    "            err += e\n",
    "        print(err)\n",
    "        return err\n",
    "\n",
    "    def residual_error2(p):\n",
    "        p = position_estimator.GeoPoint(*p)\n",
    "        err = 0\n",
    "        true_t = sensor_timestamps[0] - p.dist(position_estimator.GeoPoint(*sensors[sensor_ids[0]][:3])) / C\n",
    "        for i in range(1, len(sensor_ids)):\n",
    "            t = sensor_timestamps[i] - p.dist(position_estimator.GeoPoint(*sensors[sensor_ids[i]][:3])) / C\n",
    "            err += true_t - t - time_delta_gaussians[sensor_ids[0]][sensor_ids[i]][0]\n",
    "        #print(err, len(sensor_ids), err/len(sensor_ids))\n",
    "        return err\n",
    "\n",
    "    def residual_error3(p):\n",
    "        p = position_estimator.GeoPoint(*p)\n",
    "        err = 0\n",
    "        for assumed_true in range(len(sensor_ids)):\n",
    "            true_t = sensor_timestamps[sensor_ids[assumed_true]] - p.dist(position_estimator.GeoPoint(*sensors[sensor_ids[assumed_true]][:3])) / C\n",
    "            for i in range(len(sensor_ids)):\n",
    "                if i == assumed_true:\n",
    "                    continue\n",
    "                t = sensor_timestamps[i] - p.dist(position_estimator.GeoPoint(*sensors[sensor_ids[i]][:3])) / C\n",
    "                err += true_t - t - time_delta_gaussians[sensor_ids[assumed_true]][sensor_ids[i]][0]\n",
    "            #print(err, len(sensor_ids), err/len(sensor_ids))\n",
    "            return err\n",
    "\n",
    "    def residual_error4(p):\n",
    "        p = position_estimator.GeoPoint(*p)\n",
    "        # choose 4 best time_delta distributions (smallest variances)\n",
    "        val = (100000, None)\n",
    "        for a, b, c, d in itertools.combinations(range(len(sensor_ids)), 4):\n",
    "            s = sum([time_delta_gaussians[sensor_ids[e]][sensor_ids[f]][1] for e,f in itertools.combinations([a,b,c,d],2)])\n",
    "            val = min(val, (s, (a,b,c,d)))\n",
    "        err = 0\n",
    "        for i,j in itertools.combinations(val[1], 2):\n",
    "            #print(i,j, sensor_ids[i], sensor_ids[j])\n",
    "            ti = sensor_timestamps[i] - p.dist(position_estimator.GeoPoint(*sensors[sensor_ids[i]][:3])) / C\n",
    "            tj = sensor_timestamps[j] - p.dist(position_estimator.GeoPoint(*sensors[sensor_ids[j]][:3])) / C\n",
    "            err += ti - tj - time_delta_gaussians[sensor_ids[i]][sensor_ids[j]][0]\n",
    "        return err\n",
    "\n",
    "\n",
    "    bounds = scipy.optimize.Bounds([-90, -180, 0], [90, 180, 100000])\n",
    "    method = 'L-BFGS-B'\n",
    "    return position_estimator.GeoPoint(*scipy.optimize.minimize(residual_error4, sensors[sensor_ids[0]][:3], method=method, bounds=bounds).x)\n",
    "\n",
    "\n",
    "\n",
    "for msg in tqdm(received):\n",
    "    if len(received[msg][\"sensors\"]) < 4:\n",
    "        continue\n",
    "    \n",
    "    estimated_pos = estimate_position(*zip(*received[msg][\"sensors\"]), time_delta_gaussians, sensors)\n",
    "    received[msg][\"estimated_pos\"] = estimated_pos\n",
    "    print(\"Broadcast pos:\", received[msg][\"pos\"].lat, received[msg][\"pos\"].lon, received[msg][\"pos\"].alt)\n",
    "    print(\"Estimated pos:\", received[msg][\"estimated_pos\"].lat, received[msg][\"estimated_pos\"].lon, received[msg][\"estimated_pos\"].alt)\n",
    "    print(\"Dist:\", received[msg][\"pos\"].dist(received[msg][\"estimated_pos\"]))\n",
    "    "
   ]
  },
  {
   "cell_type": "code",
   "execution_count": null,
   "metadata": {},
   "outputs": [],
   "source": []
  }
 ],
 "metadata": {
  "interpreter": {
   "hash": "f83f7d2bec24b1c01f80f56dfc3ff5e19c44b6c9892506c9ab7d9e0c90a9b548"
  },
  "kernelspec": {
   "display_name": "Python 3.9.10 64-bit (windows store)",
   "language": "python",
   "name": "python3"
  },
  "language_info": {
   "codemirror_mode": {
    "name": "ipython",
    "version": 3
   },
   "file_extension": ".py",
   "mimetype": "text/x-python",
   "name": "python",
   "nbconvert_exporter": "python",
   "pygments_lexer": "ipython3",
   "version": "3.9.10"
  },
  "orig_nbformat": 4
 },
 "nbformat": 4,
 "nbformat_minor": 2
}
