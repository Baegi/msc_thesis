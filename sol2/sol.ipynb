{
 "cells": [
  {
   "cell_type": "code",
   "execution_count": 4,
   "metadata": {},
   "outputs": [],
   "source": [
    "%load_ext autoreload\n",
    "%autoreload\n",
    "%matplotlib widget\n",
    "\n",
    "import cProfile\n",
    "import util\n"
   ]
  },
  {
   "cell_type": "code",
   "execution_count": null,
   "metadata": {},
   "outputs": [],
   "source": [
    "DATA_LOCATION = \"E:/thesis_data/1hour_complete_22_01_10_05/\"\n",
    "#DATA_LOCATION = \"../raw_data/1hour/\"\n",
    "\n",
    "#cProfile.run(\"util.read_data(DATA_LOCATION)\")\n",
    "util.read_data(DATA_LOCATION)"
   ]
  },
  {
   "cell_type": "code",
   "execution_count": 10,
   "metadata": {},
   "outputs": [],
   "source": [
    "%autoreload\n",
    "util.cleanup_sensors()"
   ]
  },
  {
   "cell_type": "code",
   "execution_count": 28,
   "metadata": {},
   "outputs": [],
   "source": [
    "util.close_db()"
   ]
  }
 ],
 "metadata": {
  "interpreter": {
   "hash": "f83f7d2bec24b1c01f80f56dfc3ff5e19c44b6c9892506c9ab7d9e0c90a9b548"
  },
  "kernelspec": {
   "display_name": "Python 3.9.10 64-bit (windows store)",
   "language": "python",
   "name": "python3"
  },
  "language_info": {
   "codemirror_mode": {
    "name": "ipython",
    "version": 3
   },
   "file_extension": ".py",
   "mimetype": "text/x-python",
   "name": "python",
   "nbconvert_exporter": "python",
   "pygments_lexer": "ipython3",
   "version": "3.9.12"
  },
  "orig_nbformat": 4
 },
 "nbformat": 4,
 "nbformat_minor": 2
}
