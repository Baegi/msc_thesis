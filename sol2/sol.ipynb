{
 "cells": [
  {
   "cell_type": "code",
   "execution_count": 13,
   "metadata": {},
   "outputs": [
    {
     "name": "stdout",
     "output_type": "stream",
     "text": [
      "The autoreload extension is already loaded. To reload it, use:\n",
      "  %reload_ext autoreload\n"
     ]
    }
   ],
   "source": [
    "%load_ext autoreload\n",
    "%autoreload\n",
    "%matplotlib widget\n",
    "\n",
    "import cProfile\n",
    "import util\n"
   ]
  },
  {
   "cell_type": "code",
   "execution_count": null,
   "metadata": {},
   "outputs": [],
   "source": [
    "DATA_LOCATION = \"E:/thesis_data/1hour_complete_22_01_10_05/\"\n",
    "#DATA_LOCATION = \"../raw_data/1hour/\"\n",
    "\n",
    "#cProfile.run(\"util.read_data(DATA_LOCATION)\")\n",
    "util.read_data(DATA_LOCATION)"
   ]
  },
  {
   "cell_type": "code",
   "execution_count": 4,
   "metadata": {},
   "outputs": [
    {
     "name": "stdout",
     "output_type": "stream",
     "text": [
      "Sensors with < 2 records: 0\n",
      "Deleting 0 messages\n"
     ]
    }
   ],
   "source": [
    "%autoreload\n",
    "util.cleanup_sensors()\n",
    "util.cleanup_messages()"
   ]
  },
  {
   "cell_type": "code",
   "execution_count": null,
   "metadata": {},
   "outputs": [],
   "source": [
    "%load_ext autoreload\n",
    "%autoreload\n",
    "\n",
    "import timedelta_utils\n",
    "from pstats import Stats\n",
    "\n",
    "#timedelta_utils.calc_timedeltas()\n",
    "timedelta_utils.propagate_timedeltas()"
   ]
  },
  {
   "cell_type": "code",
   "execution_count": null,
   "metadata": {},
   "outputs": [],
   "source": [
    "%load_ext autoreload\n",
    "%autoreload\n",
    "import cProfile\n",
    "import mlat_utils\n",
    "from pstats import Stats\n",
    "\n",
    "pr = cProfile.Profile()\n",
    "pr.enable()\n",
    "\n",
    "mlat_utils.calc_positions()\n",
    "\n",
    "pr.disable()\n",
    "stats = Stats(pr)\n",
    "stats.sort_stats('tottime').print_stats(25)\n"
   ]
  },
  {
   "cell_type": "code",
   "execution_count": 11,
   "metadata": {},
   "outputs": [
    {
     "name": "stdout",
     "output_type": "stream",
     "text": [
      "The autoreload extension is already loaded. To reload it, use:\n",
      "  %reload_ext autoreload\n",
      "Number of received messages: (1372691,)\n",
      "Number of calculated positions: (270616,)\n",
      "Best dist: 2570.7705646040713\n",
      "Worst dist: 213124259.4908406\n",
      "Mean dist: 453310.2888283165\n",
      "Median dist: 216984.50886759616\n"
     ]
    }
   ],
   "source": [
    "%load_ext autoreload\n",
    "%autoreload\n",
    "\n",
    "# Check calculated position quality\n",
    "mlat_utils.summarize_accuracy()"
   ]
  },
  {
   "cell_type": "code",
   "execution_count": null,
   "metadata": {},
   "outputs": [],
   "source": [
    "# check the results visually\n",
    "\n",
    "import mlat_utils\n",
    "%load_ext autoreload\n",
    "%autoreload\n",
    "%matplotlib widget\n",
    "mlat_utils.visualize_flight_paths('raw')"
   ]
  },
  {
   "cell_type": "code",
   "execution_count": null,
   "metadata": {},
   "outputs": [],
   "source": [
    "# do contextual adjustments to calculated positions\n",
    "import mlat_utils\n",
    "%load_ext autoreload\n",
    "%autoreload\n",
    "%matplotlib widget\n",
    "#mlat_utils.post_process_positions()\n",
    "mlat_utils.visualize_flight_paths('corrected')"
   ]
  },
  {
   "cell_type": "code",
   "execution_count": 11,
   "metadata": {},
   "outputs": [],
   "source": [
    "util.close_db()"
   ]
  }
 ],
 "metadata": {
  "interpreter": {
   "hash": "f83f7d2bec24b1c01f80f56dfc3ff5e19c44b6c9892506c9ab7d9e0c90a9b548"
  },
  "kernelspec": {
   "display_name": "Python 3.9.10 64-bit (windows store)",
   "language": "python",
   "name": "python3"
  },
  "language_info": {
   "codemirror_mode": {
    "name": "ipython",
    "version": 3
   },
   "file_extension": ".py",
   "mimetype": "text/x-python",
   "name": "python",
   "nbconvert_exporter": "python",
   "pygments_lexer": "ipython3",
   "version": "3.9.12"
  },
  "orig_nbformat": 4
 },
 "nbformat": 4,
 "nbformat_minor": 2
}
